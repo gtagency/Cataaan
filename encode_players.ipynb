{
 "cells": [
  {
   "cell_type": "code",
   "execution_count": 1,
   "metadata": {},
   "outputs": [],
   "source": [
    "from pycatan.game import Game\n",
    "from pycatan.statuses import Statuses\n",
    "from pycatan.card import ResCard, DevCard"
   ]
  },
  {
   "cell_type": "code",
   "execution_count": 52,
   "metadata": {},
   "outputs": [],
   "source": [
    "game = Game(num_of_players=2)"
   ]
  },
  {
   "cell_type": "code",
   "execution_count": 53,
   "metadata": {},
   "outputs": [],
   "source": [
    "game.players[0].cards.append(ResCard.WOOD)\n",
    "game.players[0].cards.append(ResCard.WOOD)\n",
    "game.players[1].cards.append(DevCard.ROAD)"
   ]
  },
  {
   "cell_type": "code",
   "execution_count": 54,
   "metadata": {},
   "outputs": [],
   "source": [
    "res = [ResCard.WOOD, ResCard.BRICK, ResCard.WHEAT, ResCard.ORE, ResCard.SHEEP]\n",
    "dev = [DevCard.ROAD, DevCard.KNIGHT, DevCard.MONOPOLY, DevCard.VP, DevCard.YOP]"
   ]
  },
  {
   "cell_type": "code",
   "execution_count": 55,
   "metadata": {},
   "outputs": [
    {
     "data": {
      "text/plain": [
       "[<ResCard.WOOD: 0>, <ResCard.WOOD: 0>]"
      ]
     },
     "execution_count": 55,
     "metadata": {},
     "output_type": "execute_result"
    }
   ],
   "source": [
    "game.players[0].cards"
   ]
  },
  {
   "cell_type": "code",
   "execution_count": 62,
   "metadata": {},
   "outputs": [],
   "source": [
    "def encode_players(players):\n",
    "    print(players)\n",
    "    encoding = [] #number of each res card, number of each dev card for each player\n",
    "    for p in game.players:\n",
    "        print(p)\n",
    "        player_encoding = [[0, 0, 0, 0, 0], [0, 0, 0, 0, 0]]\n",
    "        for card in p.cards:\n",
    "            print(card)\n",
    "            if card in res:\n",
    "                player_encoding[0][res.index(card)] += 1\n",
    "                print(\"res\")\n",
    "            if card in dev:\n",
    "                print(\"dev\")\n",
    "                player_encoding[1][dev.index(card)] += 1\n",
    "        #gamestate will include: cards, current player, current roll\n",
    "        print(player_encoding)\n",
    "        encoding.append(player_encoding)\n",
    "    return encoding"
   ]
  },
  {
   "cell_type": "code",
   "execution_count": 63,
   "metadata": {},
   "outputs": [
    {
     "name": "stdout",
     "output_type": "stream",
     "text": [
      "[<pycatan.player.Player object at 0x0000017A5081AC88>, <pycatan.player.Player object at 0x0000017A5081ACC0>]\n",
      "<pycatan.player.Player object at 0x0000017A5081AC88>\n",
      "ResCard.WOOD\n",
      "res\n",
      "ResCard.WOOD\n",
      "res\n",
      "[[2, 0, 0, 0, 0], [0, 0, 0, 0, 0]]\n",
      "<pycatan.player.Player object at 0x0000017A5081ACC0>\n",
      "DevCard.ROAD\n",
      "dev\n",
      "[[0, 0, 0, 0, 0], [1, 0, 0, 0, 0]]\n"
     ]
    },
    {
     "data": {
      "text/plain": [
       "[[[2, 0, 0, 0, 0], [0, 0, 0, 0, 0]], [[0, 0, 0, 0, 0], [1, 0, 0, 0, 0]]]"
      ]
     },
     "execution_count": 63,
     "metadata": {},
     "output_type": "execute_result"
    }
   ],
   "source": [
    "encode_players(game.players)"
   ]
  },
  {
   "cell_type": "code",
   "execution_count": null,
   "metadata": {},
   "outputs": [],
   "source": []
  }
 ],
 "metadata": {
  "kernelspec": {
   "display_name": "Python 3",
   "language": "python",
   "name": "python3"
  },
  "language_info": {
   "codemirror_mode": {
    "name": "ipython",
    "version": 3
   },
   "file_extension": ".py",
   "mimetype": "text/x-python",
   "name": "python",
   "nbconvert_exporter": "python",
   "pygments_lexer": "ipython3",
   "version": "3.7.0"
  }
 },
 "nbformat": 4,
 "nbformat_minor": 2
}
